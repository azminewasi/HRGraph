{
 "cells": [
  {
   "cell_type": "markdown",
   "id": "a6763f7d",
   "metadata": {
    "papermill": {
     "duration": 0.004832,
     "end_time": "2023-12-29T17:51:57.631121",
     "exception": false,
     "start_time": "2023-12-29T17:51:57.626289",
     "status": "completed"
    },
    "tags": []
   },
   "source": [
    "# Install Libraries"
   ]
  },
  {
   "cell_type": "code",
   "execution_count": null,
   "id": "731eace0",
   "metadata": {
    "execution": {
     "iopub.execute_input": "2023-12-29T17:51:57.642074Z",
     "iopub.status.busy": "2023-12-29T17:51:57.641196Z",
     "iopub.status.idle": "2023-12-29T17:52:13.441629Z",
     "shell.execute_reply": "2023-12-29T17:52:13.440455Z"
    },
    "papermill": {
     "duration": 15.808303,
     "end_time": "2023-12-29T17:52:13.443895",
     "exception": false,
     "start_time": "2023-12-29T17:51:57.635592",
     "status": "completed"
    },
    "tags": []
   },
   "outputs": [],
   "source": [
    "pip install google-generativeai"
   ]
  },
  {
   "cell_type": "markdown",
   "id": "ffd06065",
   "metadata": {
    "papermill": {
     "duration": 0.005946,
     "end_time": "2023-12-29T17:52:13.455746",
     "exception": false,
     "start_time": "2023-12-29T17:52:13.449800",
     "status": "completed"
    },
    "tags": []
   },
   "source": [
    "# Load Model"
   ]
  },
  {
   "cell_type": "code",
   "execution_count": 2,
   "id": "85d7c487",
   "metadata": {
    "execution": {
     "iopub.execute_input": "2023-12-29T17:52:13.469042Z",
     "iopub.status.busy": "2023-12-29T17:52:13.468674Z",
     "iopub.status.idle": "2023-12-29T17:52:13.473984Z",
     "shell.execute_reply": "2023-12-29T17:52:13.472966Z"
    },
    "papermill": {
     "duration": 0.014652,
     "end_time": "2023-12-29T17:52:13.476147",
     "exception": false,
     "start_time": "2023-12-29T17:52:13.461495",
     "status": "completed"
    },
    "tags": []
   },
   "outputs": [],
   "source": [
    "import time"
   ]
  },
  {
   "cell_type": "code",
   "execution_count": 3,
   "id": "9786ce3a",
   "metadata": {
    "execution": {
     "iopub.execute_input": "2023-12-29T17:52:13.490706Z",
     "iopub.status.busy": "2023-12-29T17:52:13.489965Z",
     "iopub.status.idle": "2023-12-29T17:52:14.448382Z",
     "shell.execute_reply": "2023-12-29T17:52:14.447629Z"
    },
    "papermill": {
     "duration": 0.968309,
     "end_time": "2023-12-29T17:52:14.450701",
     "exception": false,
     "start_time": "2023-12-29T17:52:13.482392",
     "status": "completed"
    },
    "tags": []
   },
   "outputs": [],
   "source": [
    "import google.generativeai as genai\n",
    "from kaggle_secrets import UserSecretsClient\n",
    "\n",
    "user_secrets = UserSecretsClient()\n",
    "api_key = user_secrets.get_secret(\"GEMINI_API_KEY\")\n",
    "genai.configure(api_key = api_key)\n",
    "\n",
    "# Generate content\n",
    "model = genai.GenerativeModel(model_name='gemini-pro')"
   ]
  },
  {
   "cell_type": "code",
   "execution_count": 4,
   "id": "36327f56",
   "metadata": {
    "execution": {
     "iopub.execute_input": "2023-12-29T17:52:14.463549Z",
     "iopub.status.busy": "2023-12-29T17:52:14.463088Z",
     "iopub.status.idle": "2023-12-29T17:52:14.467849Z",
     "shell.execute_reply": "2023-12-29T17:52:14.466861Z"
    },
    "papermill": {
     "duration": 0.013412,
     "end_time": "2023-12-29T17:52:14.470041",
     "exception": false,
     "start_time": "2023-12-29T17:52:14.456629",
     "status": "completed"
    },
    "tags": []
   },
   "outputs": [],
   "source": [
    "def generate_entities (prompt):\n",
    "    response = model.generate_content(prompt)\n",
    "    return response.text"
   ]
  },
  {
   "cell_type": "code",
   "execution_count": 5,
   "id": "6f20654e",
   "metadata": {
    "execution": {
     "iopub.execute_input": "2023-12-29T17:52:14.482910Z",
     "iopub.status.busy": "2023-12-29T17:52:14.482624Z",
     "iopub.status.idle": "2023-12-29T17:52:14.489255Z",
     "shell.execute_reply": "2023-12-29T17:52:14.488360Z"
    },
    "papermill": {
     "duration": 0.0153,
     "end_time": "2023-12-29T17:52:14.491274",
     "exception": false,
     "start_time": "2023-12-29T17:52:14.475974",
     "status": "completed"
    },
    "tags": []
   },
   "outputs": [],
   "source": [
    "def generate_prompt (text,info):\n",
    "    if info == \"CV\":\n",
    "        prompt = '''\n",
    "        You are a entity extraction expert, you can identify and extract dfferent types of entities from a text. Here is some information from a CV. Your task is to find and enlist all the information entities like education (degree, grade, school name) skills (which skills he has), qualifications (skills), experience (action verb and nouns) and any other helpful token that is important for job, and share them in a list where entities are seperated by comma.  do not write anything else.  Don't share details. just the small entities seperated by comma in a dictonary (json). Each entity can have only 1-2 words..>>'''\n",
    "        prompt = prompt+\"```\"+text+\"```\"\n",
    "    else:\n",
    "        prompt = '''\n",
    "        You are a entity extraction expert, you can identify and extract dfferent types of entities from a text. Here is some information from a job description. Your task is to find and enlist all the information entities like education (degree requirement) skills (which skills the job needs), qualifications (skills), experience (action verb and nouns) and any other helpful token that is important for job, and share them in a list where entities are seperated by comma.  do not write anything else. Don't share details. just the small entities seperated by comma  in a dictonary (json). Each entity can have only 1-2 words.   Don't share details. >>'''\n",
    "        prompt = prompt+\"```\"+text+\"```\"\n",
    "    prompt = prompt + '''\n",
    "    =================\n",
    "    Example:\n",
    "    {\n",
    "        'Education': ['ABC University', 'CGPA 3.00', 'Computer Science and Engineering', 'BSc'],\n",
    "        'Skills' : ['C','Python','R','Machine Learning', 'Communication', 'Team Work']\n",
    "        'Experience' : {'ABX InfoTech': ['Team Management', 'Assistant Manager'] , 'STech':['Manager','Senior Enginner','AWS']}\n",
    "    }\n",
    "    '''\n",
    "    return prompt"
   ]
  },
  {
   "cell_type": "code",
   "execution_count": 6,
   "id": "e3d1369b",
   "metadata": {
    "execution": {
     "iopub.execute_input": "2023-12-29T17:52:14.503884Z",
     "iopub.status.busy": "2023-12-29T17:52:14.503603Z",
     "iopub.status.idle": "2023-12-29T17:52:15.300549Z",
     "shell.execute_reply": "2023-12-29T17:52:15.299538Z"
    },
    "papermill": {
     "duration": 0.805859,
     "end_time": "2023-12-29T17:52:15.303032",
     "exception": false,
     "start_time": "2023-12-29T17:52:14.497173",
     "status": "completed"
    },
    "tags": []
   },
   "outputs": [],
   "source": [
    "import pandas as pd"
   ]
  },
  {
   "cell_type": "code",
   "execution_count": null,
   "id": "a7beefa7",
   "metadata": {
    "execution": {
     "iopub.execute_input": "2023-12-29T17:52:15.316210Z",
     "iopub.status.busy": "2023-12-29T17:52:15.315744Z",
     "iopub.status.idle": "2023-12-29T17:52:15.326884Z",
     "shell.execute_reply": "2023-12-29T17:52:15.325249Z"
    },
    "papermill": {
     "duration": 0.021323,
     "end_time": "2023-12-29T17:52:15.330276",
     "exception": false,
     "start_time": "2023-12-29T17:52:15.308953",
     "status": "completed"
    },
    "tags": []
   },
   "outputs": [],
   "source": [
    "import os\n",
    "for dirname, _, filenames in os.walk('/kaggle/input'):\n",
    "    for filename in filenames:\n",
    "        print(os.path.join(dirname, filename))"
   ]
  },
  {
   "cell_type": "code",
   "execution_count": 8,
   "id": "274998cd",
   "metadata": {
    "execution": {
     "iopub.execute_input": "2023-12-29T17:52:15.343630Z",
     "iopub.status.busy": "2023-12-29T17:52:15.343298Z",
     "iopub.status.idle": "2023-12-29T17:52:15.408223Z",
     "shell.execute_reply": "2023-12-29T17:52:15.407373Z"
    },
    "papermill": {
     "duration": 0.07396,
     "end_time": "2023-12-29T17:52:15.410740",
     "exception": false,
     "start_time": "2023-12-29T17:52:15.336780",
     "status": "completed"
    },
    "tags": []
   },
   "outputs": [],
   "source": [
    "JD = pd.read_csv(\"Selected JDs.csv\")\n",
    "CV = pd.read_csv(\"Selected CVs.csv\")"
   ]
  },
  {
   "cell_type": "code",
   "execution_count": null,
   "id": "79db1064",
   "metadata": {
    "execution": {
     "iopub.execute_input": "2023-12-29T17:52:15.424122Z",
     "iopub.status.busy": "2023-12-29T17:52:15.423811Z",
     "iopub.status.idle": "2023-12-29T19:16:17.435589Z",
     "shell.execute_reply": "2023-12-29T19:16:17.434707Z"
    },
    "papermill": {
     "duration": 5042.020931,
     "end_time": "2023-12-29T19:16:17.437966",
     "exception": false,
     "start_time": "2023-12-29T17:52:15.417035",
     "status": "completed"
    },
    "tags": []
   },
   "outputs": [],
   "source": [
    "outputs_JD = []\n",
    "outputs_CV = []\n",
    "for i in range (200):\n",
    "    JD_i = JD['jobpost'][i]\n",
    "    CV_i = CV['Resume_str'][i]\n",
    "    \n",
    "    print (\"Tring: \",i+1)\n",
    "    \n",
    "    try:\n",
    "        JD_t = generate_entities(generate_prompt (JD_i,\"JD\"))\n",
    "        print(\"JD :\",JD_t)\n",
    "    except:\n",
    "        print(\"JD Failed\")\n",
    "        \n",
    "    try:\n",
    "        CV_t = generate_entities(generate_prompt (CV_i,\"CV\"))\n",
    "        print(\"CV :\",CV_t)\n",
    "    except:\n",
    "        print(\"CV Failed\")\n",
    "    \n",
    "    outputs_JD.append(JD_t)\n",
    "    outputs_CV.append(CV_t)  \n",
    "    \n",
    "    time.sleep(10)"
   ]
  },
  {
   "cell_type": "code",
   "execution_count": 10,
   "id": "8675b7f4",
   "metadata": {
    "execution": {
     "iopub.execute_input": "2023-12-29T19:16:17.659861Z",
     "iopub.status.busy": "2023-12-29T19:16:17.659502Z",
     "iopub.status.idle": "2023-12-29T19:16:17.664807Z",
     "shell.execute_reply": "2023-12-29T19:16:17.663986Z"
    },
    "papermill": {
     "duration": 0.087662,
     "end_time": "2023-12-29T19:16:17.666735",
     "exception": false,
     "start_time": "2023-12-29T19:16:17.579073",
     "status": "completed"
    },
    "tags": []
   },
   "outputs": [],
   "source": [
    "dfx = pd.DataFrame({\n",
    "    'Outputs_JD': outputs_JD,\n",
    "    'Outputs_CV': outputs_CV\n",
    "})"
   ]
  },
  {
   "cell_type": "code",
   "execution_count": 11,
   "id": "09abbd4f",
   "metadata": {
    "execution": {
     "iopub.execute_input": "2023-12-29T19:16:17.828793Z",
     "iopub.status.busy": "2023-12-29T19:16:17.828345Z",
     "iopub.status.idle": "2023-12-29T19:16:17.872559Z",
     "shell.execute_reply": "2023-12-29T19:16:17.871462Z"
    },
    "papermill": {
     "duration": 0.129024,
     "end_time": "2023-12-29T19:16:17.875089",
     "exception": false,
     "start_time": "2023-12-29T19:16:17.746065",
     "status": "completed"
    },
    "tags": []
   },
   "outputs": [],
   "source": [
    "dfx.to_csv(\"outputs.csv\")"
   ]
  }
 ],
 "metadata": {
  "kaggle": {
   "accelerator": "nvidiaTeslaT4",
   "dataSources": [
    {
     "datasetId": 4234031,
     "sourceId": 7298841,
     "sourceType": "datasetVersion"
    },
    {
     "modelInstanceId": 3900,
     "sourceId": 5112,
     "sourceType": "modelInstanceVersion"
    }
   ],
   "dockerImageVersionId": 30580,
   "isGpuEnabled": true,
   "isInternetEnabled": true,
   "language": "python",
   "sourceType": "notebook"
  },
  "kernelspec": {
   "display_name": "Python 3",
   "language": "python",
   "name": "python3"
  },
  "language_info": {
   "codemirror_mode": {
    "name": "ipython",
    "version": 3
   },
   "file_extension": ".py",
   "mimetype": "text/x-python",
   "name": "python",
   "nbconvert_exporter": "python",
   "pygments_lexer": "ipython3",
   "version": "3.10.12"
  },
  "papermill": {
   "default_parameters": {},
   "duration": 5064.812265,
   "end_time": "2023-12-29T19:16:18.488998",
   "environment_variables": {},
   "exception": null,
   "input_path": "__notebook__.ipynb",
   "output_path": "__notebook__.ipynb",
   "parameters": {},
   "start_time": "2023-12-29T17:51:53.676733",
   "version": "2.4.0"
  }
 },
 "nbformat": 4,
 "nbformat_minor": 5
}
